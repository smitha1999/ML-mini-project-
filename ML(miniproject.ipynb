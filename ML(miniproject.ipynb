{
  "nbformat": 4,
  "nbformat_minor": 0,
  "metadata": {
    "colab": {
      "name": "ML(miniproject.ipynb",
      "provenance": [],
      "mount_file_id": "1J2QSXHxYsasAoAo70GK6JxZdrtO1MmAD",
      "authorship_tag": "ABX9TyPDSZh83lxvniT4lNSK/oQz",
      "include_colab_link": true
    },
    "kernelspec": {
      "name": "python3",
      "display_name": "Python 3"
    }
  },
  "cells": [
    {
      "cell_type": "markdown",
      "metadata": {
        "id": "view-in-github",
        "colab_type": "text"
      },
      "source": [
        "<a href=\"https://colab.research.google.com/github/smitha1999/ML-mini-project-/blob/master/ML(miniproject.ipynb\" target=\"_parent\"><img src=\"https://colab.research.google.com/assets/colab-badge.svg\" alt=\"Open In Colab\"/></a>"
      ]
    },
    {
      "cell_type": "code",
      "metadata": {
        "id": "Mu0JvNoTCwRz",
        "colab_type": "code",
        "colab": {
          "base_uri": "https://localhost:8080/",
          "height": 104
        },
        "outputId": "88e5cc09-d0af-4ae8-b79b-4991abaf5645"
      },
      "source": [
        "!pip install bing-image-downloader"
      ],
      "execution_count": 1,
      "outputs": [
        {
          "output_type": "stream",
          "text": [
            "Collecting bing-image-downloader\n",
            "  Downloading https://files.pythonhosted.org/packages/0d/bf/537a61030b84ae4cd5022d5c7b014fd9bc3ce7c02358919153a6658a61d3/bing_image_downloader-1.0.4-py3-none-any.whl\n",
            "Installing collected packages: bing-image-downloader\n",
            "Successfully installed bing-image-downloader-1.0.4\n"
          ],
          "name": "stdout"
        }
      ]
    },
    {
      "cell_type": "code",
      "metadata": {
        "id": "1JvHzTwyC-_X",
        "colab_type": "code",
        "colab": {
          "base_uri": "https://localhost:8080/",
          "height": 34
        },
        "outputId": "dad56942-faac-480b-ae96-41348caee7de"
      },
      "source": [
        "!ls"
      ],
      "execution_count": 2,
      "outputs": [
        {
          "output_type": "stream",
          "text": [
            "drive  sample_data\n"
          ],
          "name": "stdout"
        }
      ]
    },
    {
      "cell_type": "code",
      "metadata": {
        "id": "VV4-b3xVDHD0",
        "colab_type": "code",
        "colab": {
          "base_uri": "https://localhost:8080/",
          "height": 34
        },
        "outputId": "49497e7f-785a-4226-d8f6-9363b460a75a"
      },
      "source": [
        "cd /content/drive/My Drive"
      ],
      "execution_count": 3,
      "outputs": [
        {
          "output_type": "stream",
          "text": [
            "/content/drive/My Drive\n"
          ],
          "name": "stdout"
        }
      ]
    },
    {
      "cell_type": "code",
      "metadata": {
        "id": "lR9EBJOFDPx-",
        "colab_type": "code",
        "colab": {}
      },
      "source": [
        "!mkdir images"
      ],
      "execution_count": 5,
      "outputs": []
    },
    {
      "cell_type": "code",
      "metadata": {
        "id": "CEEbhFhADTeK",
        "colab_type": "code",
        "colab": {
          "base_uri": "https://localhost:8080/",
          "height": 34
        },
        "outputId": "59608a12-9290-4785-902e-5e7b44468554"
      },
      "source": [
        "cd images"
      ],
      "execution_count": 6,
      "outputs": [
        {
          "output_type": "stream",
          "text": [
            "/content/drive/My Drive/images\n"
          ],
          "name": "stdout"
        }
      ]
    },
    {
      "cell_type": "code",
      "metadata": {
        "id": "UJq-DqwYDnzN",
        "colab_type": "code",
        "colab": {
          "base_uri": "https://localhost:8080/",
          "height": 1000
        },
        "outputId": "4fc8ff58-fb2b-4629-8961-682ea5681d43"
      },
      "source": [
        "from bing_image_downloader import downloader\n",
        "downloader.download(\"Cat animal\",limit = 20, output_dir = 'images')"
      ],
      "execution_count": 7,
      "outputs": [
        {
          "output_type": "stream",
          "text": [
            "\n",
            "\n",
            "[!!]Indexing page: 1\n",
            "\n",
            "[%] Indexed 20 Images on Page 1.\n",
            "\n",
            "===============================================\n",
            "\n",
            "[%] Downloading Image #1 from http://2.bp.blogspot.com/-WtdFq_e6eKo/TV5W5s-hS-I/AAAAAAAAAvM/gmCUYOx3bX8/s1600/Animals_Cats_Small_cat_005241_.jpg\n",
            "[%] File Downloaded !\n",
            "\n",
            "[%] Downloading Image #2 from http://4.bp.blogspot.com/-MzZCzWI_6Xc/UIUQp1qPfzI/AAAAAAAAHpA/OTwHCJSWFAY/s1600/cats_animals_kittens_cat_kitten_cute_desktop_1680x1050_hd-wallpaper-753974.jpeg\n",
            "[%] File Downloaded !\n",
            "\n",
            "[%] Downloading Image #3 from http://www.nationalgeographic.com/content/dam/animals/thumbs/rights-exempt/mammals/d/domestic-cat_thumb.ngsversion.1472140774957.adapt.1900.1.jpg\n",
            "[%] File Downloaded !\n",
            "\n",
            "[%] Downloading Image #4 from https://upload.wikimedia.org/wikipedia/commons/thumb/6/66/An_up-close_picture_of_a_curious_male_domestic_shorthair_tabby_cat.jpg/1200px-An_up-close_picture_of_a_curious_male_domestic_shorthair_tabby_cat.jpg\n",
            "[Error]Invalid image, not saving https://upload.wikimedia.org/wikipedia/commons/thumb/6/66/An_up-close_picture_of_a_curious_male_domestic_shorthair_tabby_cat.jpg/1200px-An_up-close_picture_of_a_curious_male_domestic_shorthair_tabby_cat.jpg\n",
            "\n",
            "[!] Issue getting: https://upload.wikimedia.org/wikipedia/commons/thumb/6/66/An_up-close_picture_of_a_curious_male_domestic_shorthair_tabby_cat.jpg/1200px-An_up-close_picture_of_a_curious_male_domestic_shorthair_tabby_cat.jpg\n",
            "[!] Error:: No active exception to reraise\n",
            "[%] Downloading Image #4 from http://1.bp.blogspot.com/-uFDi4AUwNHs/T_l2q4DiWQI/AAAAAAAADWE/5Poi3Y2Iib4/s1600/cat-animal.jpg\n",
            "[%] File Downloaded !\n",
            "\n",
            "[%] Downloading Image #5 from http://2.bp.blogspot.com/-vgwPX9bkWUs/UeN7c0wUM6I/AAAAAAAAD60/A7B1PaU3EdE/s1600/Cute-Cat-Animal-Beauti.jpg\n",
            "[%] File Downloaded !\n",
            "\n",
            "[%] Downloading Image #6 from http://1.bp.blogspot.com/-tYJRaZ4-DC8/Tk0OcIdtrWI/AAAAAAAA2MU/nt2JixamaC0/s1600/Cat-Animal-Wallpaper.jpg\n",
            "[%] File Downloaded !\n",
            "\n",
            "[%] Downloading Image #7 from http://static.independent.co.uk/s3fs-public/thumbnails/image/2013/01/24/12/v2-cute-cat-picture.jpg\n",
            "[%] File Downloaded !\n",
            "\n",
            "[%] Downloading Image #8 from https://i.ytimg.com/vi/mW3S0u8bj58/maxresdefault.jpg\n",
            "[%] File Downloaded !\n",
            "\n",
            "[%] Downloading Image #9 from https://askabiologist.asu.edu/sites/default/files/styles/panopoly_image_full/public/side-content/tortoiseshell_she-cat.jpg?itok=tbXBe5H7\n",
            "[%] File Downloaded !\n",
            "\n",
            "[%] Downloading Image #10 from http://sites.psu.edu/ecologistsnotebook/wp-content/uploads/sites/13190/2014/09/Feral_cat_Virginia_crop-Stavrolo-Wikimedia-Commons.jpg\n",
            "[%] File Downloaded !\n",
            "\n",
            "[%] Downloading Image #11 from https://news.nationalgeographic.com/content/dam/news/2018/05/17/you-can-train-your-cat/02-cat-training-NationalGeographic_1484324.ngsversion.1526587209178.adapt.1900.1.jpg\n",
            "[%] File Downloaded !\n",
            "\n",
            "[%] Downloading Image #12 from http://3.bp.blogspot.com/-4bg8QfoBgv8/UYDmF_9hBcI/AAAAAAAAAPw/IHbMLEZxPpU/s1600/Cat-Lovely-Animal.jpg\n",
            "[%] File Downloaded !\n",
            "\n",
            "[%] Downloading Image #13 from https://i.ytimg.com/vi/ir69nxXfzns/maxresdefault.jpg\n",
            "[%] File Downloaded !\n",
            "\n",
            "[%] Downloading Image #14 from http://1.bp.blogspot.com/-eVmlqpEuClg/T_xgENJHMlI/AAAAAAAAA2I/YJURjIw1Oe4/s1600/cat+21.jpg\n",
            "[%] File Downloaded !\n",
            "\n",
            "[%] Downloading Image #15 from https://upload.wikimedia.org/wikipedia/commons/thumb/3/3a/Cat03.jpg/1200px-Cat03.jpg\n",
            "[%] File Downloaded !\n",
            "\n",
            "[%] Downloading Image #16 from http://3.bp.blogspot.com/_Ym3du2sG3R4/TM3up8uIR_I/AAAAAAAAC7A/n8IwOAhlt7k/s1600/Cat-wallpaper.jpg\n",
            "[%] File Downloaded !\n",
            "\n",
            "[%] Downloading Image #17 from http://4.bp.blogspot.com/-ABNCNaeAWmU/VqkYRjTnbPI/AAAAAAABj_A/ef8aRYwWiJU/s1600/funny-cats-191-02.jpg\n",
            "[%] File Downloaded !\n",
            "\n",
            "[%] Downloading Image #18 from http://1.bp.blogspot.com/-iYv6DQl-4U0/UO2SgSuPHuI/AAAAAAAAduY/u0_u41UgaFg/s1600/funny-cat-pictures-032-008.jpg\n",
            "[%] File Downloaded !\n",
            "\n",
            "[%] Downloading Image #19 from https://i.ytimg.com/vi/tH4ecNPjgjE/hqdefault.jpg\n",
            "[%] File Downloaded !\n",
            "\n",
            "\n",
            "\n",
            "[!!]Indexing page: 2\n",
            "\n",
            "[%] Indexed 35 Images on Page 2.\n",
            "\n",
            "===============================================\n",
            "\n",
            "[%] Downloading Image #20 from http://2.bp.blogspot.com/-WtdFq_e6eKo/TV5W5s-hS-I/AAAAAAAAAvM/gmCUYOx3bX8/s1600/Animals_Cats_Small_cat_005241_.jpg\n",
            "[%] File Downloaded !\n",
            "\n",
            "\n",
            "\n",
            "[%] Done. Downloaded 20 images.\n",
            "\n",
            "===============================================\n",
            "\n"
          ],
          "name": "stdout"
        }
      ]
    },
    {
      "cell_type": "code",
      "metadata": {
        "id": "1GTVU9O9D899",
        "colab_type": "code",
        "colab": {
          "base_uri": "https://localhost:8080/",
          "height": 1000
        },
        "outputId": "cf8a879a-75d8-43f2-d2e8-a4235d94bc2c"
      },
      "source": [
        "from bing_image_downloader import downloader\n",
        "downloader.download(\"Rat animal\",limit = 20, output_dir = 'images')"
      ],
      "execution_count": 8,
      "outputs": [
        {
          "output_type": "stream",
          "text": [
            "\n",
            "\n",
            "[!!]Indexing page: 1\n",
            "\n",
            "[%] Indexed 20 Images on Page 1.\n",
            "\n",
            "===============================================\n",
            "\n",
            "[%] Downloading Image #1 from https://www.spirit-animals.com/wp-content/uploads/2014/02/Rat-Fancy.jpg\n",
            "[%] File Downloaded !\n",
            "\n",
            "[%] Downloading Image #2 from http://1.bp.blogspot.com/-kB9LF7kd6_U/TmRLtKn7oHI/AAAAAAAAA2c/4f9PfPb0yJY/s1600/rat_1.jpg\n",
            "[%] File Downloaded !\n",
            "\n",
            "[%] Downloading Image #3 from https://www.spirit-animals.com/wp-content/uploads/2014/02/Rat-Brown.jpg\n",
            "[%] File Downloaded !\n",
            "\n",
            "[%] Downloading Image #4 from https://s7d1.scene7.com/is/image/PETCO/291668-left-1\n",
            "[%] File Downloaded !\n",
            "\n",
            "[%] Downloading Image #5 from https://media1.britannica.com/eb-media/69/93369-050-9E02CEE6.jpg\n",
            "[%] File Downloaded !\n",
            "\n",
            "[%] Downloading Image #6 from https://upload.wikimedia.org/wikipedia/commons/thumb/a/a5/Rattus_norvegicus_-Fairlands_Valley_Park%2C_Stevenage%2C_England-8.jpg/1200px-Rattus_norvegicus_-Fairlands_Valley_Park%2C_Stevenage%2C_England-8.jpg\n",
            "[%] File Downloaded !\n",
            "\n",
            "[%] Downloading Image #7 from https://62e528761d0685343e1c-f3d1b99a743ffa4142d9d7f1978d9686.ssl.cf2.rackcdn.com/files/30771/area14mp/dc2dcrmg-1378361455.jpg\n",
            "[%] File Downloaded !\n",
            "\n",
            "[%] Downloading Image #8 from http://3.bp.blogspot.com/-dGFs7_yd9n8/TmRLwqdVFyI/AAAAAAAAA2g/n5cql6PbQcU/s1600/rat_2.jpg\n",
            "[%] File Downloaded !\n",
            "\n",
            "[%] Downloading Image #9 from https://arlingtonva.s3.amazonaws.com/wp-content/uploads/sites/25/2013/12/rat.jpg\n",
            "[%] File Downloaded !\n",
            "\n",
            "[%] Downloading Image #10 from http://3.bp.blogspot.com/-8BwOERQCDqY/TwxMD33X4VI/AAAAAAAAAfU/FJ4PEAXdYI8/s1600/rats.jpg\n",
            "[%] File Downloaded !\n",
            "\n",
            "[%] Downloading Image #11 from https://i.ytimg.com/vi/L0swUc492hU/hqdefault.jpg\n",
            "[%] File Downloaded !\n",
            "\n",
            "[%] Downloading Image #12 from https://i.ytimg.com/vi/iXHEa-v15BQ/maxresdefault.jpg\n",
            "[%] File Downloaded !\n",
            "\n",
            "[%] Downloading Image #13 from https://img.etsystatic.com/il/667302/443977821/il_570xN.443977821_ee4e.jpg?version=0\n",
            "[%] File Downloaded !\n",
            "\n",
            "[%] Downloading Image #14 from https://i2.wp.com/speakingofresearch.files.wordpress.com/2008/05/rat-eating.jpg\n",
            "[%] File Downloaded !\n",
            "\n",
            "[%] Downloading Image #15 from https://i.ytimg.com/vi/7S8kTNpaGm0/maxresdefault.jpg\n",
            "[%] File Downloaded !\n",
            "\n",
            "[%] Downloading Image #16 from https://cdn.pixabay.com/photo/2015/04/07/12/03/animals-710852_960_720.jpg\n",
            "[%] File Downloaded !\n",
            "\n",
            "[%] Downloading Image #17 from https://lh3.googleusercontent.com/-N7q0rpajzcE/TYABeeoZNDI/AAAAAAAABt0/FoqqSdyudJA/s1600/28007204_rat-leptosprosis-dinoo.jpg\n",
            "[%] File Downloaded !\n",
            "\n",
            "[%] Downloading Image #18 from http://i.dailymail.co.uk/i/pix/2014/04/29/1398774865632_wps_Austria_A_wild_Brown_Rat_.jpg\n",
            "[Error]Invalid image, not saving http://i.dailymail.co.uk/i/pix/2014/04/29/1398774865632_wps_Austria_A_wild_Brown_Rat_.jpg\n",
            "\n",
            "[!] Issue getting: http://i.dailymail.co.uk/i/pix/2014/04/29/1398774865632_wps_Austria_A_wild_Brown_Rat_.jpg\n",
            "[!] Error:: No active exception to reraise\n",
            "[%] Downloading Image #18 from https://upload.wikimedia.org/wikipedia/commons/thumb/6/62/Ratte-Vache.jpeg/1200px-Ratte-Vache.jpeg\n",
            "[%] File Downloaded !\n",
            "\n",
            "[%] Downloading Image #19 from https://i.pinimg.com/originals/6a/96/27/6a9627a58184ed6762aeb4d7736b74f4.jpg\n",
            "[%] File Downloaded !\n",
            "\n",
            "\n",
            "\n",
            "[!!]Indexing page: 2\n",
            "\n",
            "[%] Indexed 35 Images on Page 2.\n",
            "\n",
            "===============================================\n",
            "\n",
            "[%] Downloading Image #20 from https://www.spirit-animals.com/wp-content/uploads/2014/02/Rat-Fancy.jpg\n",
            "[%] File Downloaded !\n",
            "\n",
            "\n",
            "\n",
            "[%] Done. Downloaded 20 images.\n",
            "\n",
            "===============================================\n",
            "\n"
          ],
          "name": "stdout"
        }
      ]
    },
    {
      "cell_type": "code",
      "metadata": {
        "id": "U90XtQpfGKEK",
        "colab_type": "code",
        "colab": {}
      },
      "source": [
        "downloader.download?"
      ],
      "execution_count": 9,
      "outputs": []
    },
    {
      "cell_type": "code",
      "metadata": {
        "id": "EUk0-D1wGTDD",
        "colab_type": "code",
        "colab": {}
      },
      "source": [
        "import os\n",
        "import numpy as np\n",
        "from skimage.io import imread\n",
        "from skimage.transform import resize"
      ],
      "execution_count": 10,
      "outputs": []
    },
    {
      "cell_type": "code",
      "metadata": {
        "id": "oTQbN2ZkGjCh",
        "colab_type": "code",
        "colab": {
          "base_uri": "https://localhost:8080/",
          "height": 67
        },
        "outputId": "f9ca5b66-3e13-464b-c451-0c85c550809e"
      },
      "source": [
        "target = []   \n",
        "flat_data = []   \n",
        "images= []\n",
        "\n",
        "path = '/content/drive/My Drive/images/images/'\n",
        "for dirpath, dirnames, filenames in os.walk(path):\n",
        "  for filename in filenames:\n",
        "    category = dirpath.split('/')[-1]\n",
        "    target.append(category)\n",
        "    img = imread(f'{path}{category}/{filename}')\n",
        "    img_resized = resize(img,(50,50,3))  \n",
        "    flat_data.append(img_resized.flatten())\n",
        "    images.append(img_resized)\n",
        "\n",
        "flat_data = np.array(flat_data)\n",
        "target = np.array(target)\n",
        "images = np.array(images)\n",
        "\n",
        "print(flat_data.shape)\n",
        "print(target.shape)\n",
        "print(images.shape)"
      ],
      "execution_count": 11,
      "outputs": [
        {
          "output_type": "stream",
          "text": [
            "(40, 7500)\n",
            "(40,)\n",
            "(40, 50, 50, 3)\n"
          ],
          "name": "stdout"
        }
      ]
    },
    {
      "cell_type": "code",
      "metadata": {
        "id": "hfiqS0mpGvWc",
        "colab_type": "code",
        "colab": {}
      },
      "source": [
        "import pandas as pd\n",
        "df = pd.DataFrame(flat_data)\n",
        "df['Target'] = target"
      ],
      "execution_count": 12,
      "outputs": []
    },
    {
      "cell_type": "code",
      "metadata": {
        "id": "nI5w7fOzHSkO",
        "colab_type": "code",
        "colab": {
          "base_uri": "https://localhost:8080/",
          "height": 328
        },
        "outputId": "8b6de582-0ea3-44cb-8943-e6d92f03aa82"
      },
      "source": [
        "df.head()"
      ],
      "execution_count": 13,
      "outputs": [
        {
          "output_type": "execute_result",
          "data": {
            "text/html": [
              "<div>\n",
              "<style scoped>\n",
              "    .dataframe tbody tr th:only-of-type {\n",
              "        vertical-align: middle;\n",
              "    }\n",
              "\n",
              "    .dataframe tbody tr th {\n",
              "        vertical-align: top;\n",
              "    }\n",
              "\n",
              "    .dataframe thead th {\n",
              "        text-align: right;\n",
              "    }\n",
              "</style>\n",
              "<table border=\"1\" class=\"dataframe\">\n",
              "  <thead>\n",
              "    <tr style=\"text-align: right;\">\n",
              "      <th></th>\n",
              "      <th>0</th>\n",
              "      <th>1</th>\n",
              "      <th>2</th>\n",
              "      <th>3</th>\n",
              "      <th>4</th>\n",
              "      <th>5</th>\n",
              "      <th>6</th>\n",
              "      <th>7</th>\n",
              "      <th>8</th>\n",
              "      <th>9</th>\n",
              "      <th>10</th>\n",
              "      <th>11</th>\n",
              "      <th>12</th>\n",
              "      <th>13</th>\n",
              "      <th>14</th>\n",
              "      <th>15</th>\n",
              "      <th>16</th>\n",
              "      <th>17</th>\n",
              "      <th>18</th>\n",
              "      <th>19</th>\n",
              "      <th>20</th>\n",
              "      <th>21</th>\n",
              "      <th>22</th>\n",
              "      <th>23</th>\n",
              "      <th>24</th>\n",
              "      <th>25</th>\n",
              "      <th>26</th>\n",
              "      <th>27</th>\n",
              "      <th>28</th>\n",
              "      <th>29</th>\n",
              "      <th>30</th>\n",
              "      <th>31</th>\n",
              "      <th>32</th>\n",
              "      <th>33</th>\n",
              "      <th>34</th>\n",
              "      <th>35</th>\n",
              "      <th>36</th>\n",
              "      <th>37</th>\n",
              "      <th>38</th>\n",
              "      <th>39</th>\n",
              "      <th>...</th>\n",
              "      <th>7461</th>\n",
              "      <th>7462</th>\n",
              "      <th>7463</th>\n",
              "      <th>7464</th>\n",
              "      <th>7465</th>\n",
              "      <th>7466</th>\n",
              "      <th>7467</th>\n",
              "      <th>7468</th>\n",
              "      <th>7469</th>\n",
              "      <th>7470</th>\n",
              "      <th>7471</th>\n",
              "      <th>7472</th>\n",
              "      <th>7473</th>\n",
              "      <th>7474</th>\n",
              "      <th>7475</th>\n",
              "      <th>7476</th>\n",
              "      <th>7477</th>\n",
              "      <th>7478</th>\n",
              "      <th>7479</th>\n",
              "      <th>7480</th>\n",
              "      <th>7481</th>\n",
              "      <th>7482</th>\n",
              "      <th>7483</th>\n",
              "      <th>7484</th>\n",
              "      <th>7485</th>\n",
              "      <th>7486</th>\n",
              "      <th>7487</th>\n",
              "      <th>7488</th>\n",
              "      <th>7489</th>\n",
              "      <th>7490</th>\n",
              "      <th>7491</th>\n",
              "      <th>7492</th>\n",
              "      <th>7493</th>\n",
              "      <th>7494</th>\n",
              "      <th>7495</th>\n",
              "      <th>7496</th>\n",
              "      <th>7497</th>\n",
              "      <th>7498</th>\n",
              "      <th>7499</th>\n",
              "      <th>Target</th>\n",
              "    </tr>\n",
              "  </thead>\n",
              "  <tbody>\n",
              "    <tr>\n",
              "      <th>0</th>\n",
              "      <td>0.455518</td>\n",
              "      <td>0.301961</td>\n",
              "      <td>0.160784</td>\n",
              "      <td>0.506634</td>\n",
              "      <td>0.333569</td>\n",
              "      <td>0.184314</td>\n",
              "      <td>0.553333</td>\n",
              "      <td>0.361176</td>\n",
              "      <td>0.200886</td>\n",
              "      <td>0.580941</td>\n",
              "      <td>0.380941</td>\n",
              "      <td>0.215686</td>\n",
              "      <td>0.596078</td>\n",
              "      <td>0.396078</td>\n",
              "      <td>0.223529</td>\n",
              "      <td>0.600000</td>\n",
              "      <td>0.396078</td>\n",
              "      <td>0.223529</td>\n",
              "      <td>0.600000</td>\n",
              "      <td>0.395529</td>\n",
              "      <td>0.220157</td>\n",
              "      <td>0.603922</td>\n",
              "      <td>0.396078</td>\n",
              "      <td>0.223529</td>\n",
              "      <td>0.603922</td>\n",
              "      <td>0.396078</td>\n",
              "      <td>0.227451</td>\n",
              "      <td>0.603922</td>\n",
              "      <td>0.409333</td>\n",
              "      <td>0.252471</td>\n",
              "      <td>0.603922</td>\n",
              "      <td>0.440863</td>\n",
              "      <td>0.309804</td>\n",
              "      <td>0.498667</td>\n",
              "      <td>0.363216</td>\n",
              "      <td>0.263355</td>\n",
              "      <td>0.174510</td>\n",
              "      <td>0.125490</td>\n",
              "      <td>0.102510</td>\n",
              "      <td>0.264863</td>\n",
              "      <td>...</td>\n",
              "      <td>0.951843</td>\n",
              "      <td>0.567843</td>\n",
              "      <td>0.506510</td>\n",
              "      <td>0.909412</td>\n",
              "      <td>0.497098</td>\n",
              "      <td>0.429882</td>\n",
              "      <td>0.822431</td>\n",
              "      <td>0.414907</td>\n",
              "      <td>0.347922</td>\n",
              "      <td>0.572941</td>\n",
              "      <td>0.270380</td>\n",
              "      <td>0.218850</td>\n",
              "      <td>0.320676</td>\n",
              "      <td>0.103294</td>\n",
              "      <td>0.032157</td>\n",
              "      <td>0.306431</td>\n",
              "      <td>0.078980</td>\n",
              "      <td>0.000000</td>\n",
              "      <td>0.336378</td>\n",
              "      <td>0.090602</td>\n",
              "      <td>0.000000</td>\n",
              "      <td>0.357412</td>\n",
              "      <td>0.105882</td>\n",
              "      <td>0.003922</td>\n",
              "      <td>0.372549</td>\n",
              "      <td>0.113725</td>\n",
              "      <td>0.003922</td>\n",
              "      <td>0.376471</td>\n",
              "      <td>0.113725</td>\n",
              "      <td>0.003922</td>\n",
              "      <td>0.376471</td>\n",
              "      <td>0.117647</td>\n",
              "      <td>0.003922</td>\n",
              "      <td>0.376471</td>\n",
              "      <td>0.117647</td>\n",
              "      <td>0.003922</td>\n",
              "      <td>0.376471</td>\n",
              "      <td>0.117647</td>\n",
              "      <td>0.003922</td>\n",
              "      <td>Cat animal</td>\n",
              "    </tr>\n",
              "    <tr>\n",
              "      <th>1</th>\n",
              "      <td>0.852941</td>\n",
              "      <td>0.847059</td>\n",
              "      <td>0.862745</td>\n",
              "      <td>0.858824</td>\n",
              "      <td>0.850980</td>\n",
              "      <td>0.862745</td>\n",
              "      <td>0.858824</td>\n",
              "      <td>0.850980</td>\n",
              "      <td>0.858824</td>\n",
              "      <td>0.853922</td>\n",
              "      <td>0.847059</td>\n",
              "      <td>0.854902</td>\n",
              "      <td>0.847059</td>\n",
              "      <td>0.839216</td>\n",
              "      <td>0.847059</td>\n",
              "      <td>0.847059</td>\n",
              "      <td>0.839216</td>\n",
              "      <td>0.847059</td>\n",
              "      <td>0.847059</td>\n",
              "      <td>0.839216</td>\n",
              "      <td>0.847059</td>\n",
              "      <td>0.841176</td>\n",
              "      <td>0.831373</td>\n",
              "      <td>0.835294</td>\n",
              "      <td>0.847059</td>\n",
              "      <td>0.837255</td>\n",
              "      <td>0.844118</td>\n",
              "      <td>0.854902</td>\n",
              "      <td>0.847059</td>\n",
              "      <td>0.854902</td>\n",
              "      <td>0.866667</td>\n",
              "      <td>0.858824</td>\n",
              "      <td>0.858824</td>\n",
              "      <td>0.875490</td>\n",
              "      <td>0.866667</td>\n",
              "      <td>0.862745</td>\n",
              "      <td>0.874510</td>\n",
              "      <td>0.866667</td>\n",
              "      <td>0.862745</td>\n",
              "      <td>0.864706</td>\n",
              "      <td>...</td>\n",
              "      <td>0.980392</td>\n",
              "      <td>0.980392</td>\n",
              "      <td>0.988235</td>\n",
              "      <td>0.980392</td>\n",
              "      <td>0.980392</td>\n",
              "      <td>0.988235</td>\n",
              "      <td>0.976471</td>\n",
              "      <td>0.976471</td>\n",
              "      <td>0.984314</td>\n",
              "      <td>0.972549</td>\n",
              "      <td>0.972549</td>\n",
              "      <td>0.984314</td>\n",
              "      <td>0.968627</td>\n",
              "      <td>0.967647</td>\n",
              "      <td>0.980392</td>\n",
              "      <td>0.964706</td>\n",
              "      <td>0.960784</td>\n",
              "      <td>0.976471</td>\n",
              "      <td>0.964706</td>\n",
              "      <td>0.960784</td>\n",
              "      <td>0.976471</td>\n",
              "      <td>0.960784</td>\n",
              "      <td>0.956863</td>\n",
              "      <td>0.972549</td>\n",
              "      <td>0.956863</td>\n",
              "      <td>0.952941</td>\n",
              "      <td>0.968627</td>\n",
              "      <td>0.952941</td>\n",
              "      <td>0.949020</td>\n",
              "      <td>0.968627</td>\n",
              "      <td>0.949020</td>\n",
              "      <td>0.948039</td>\n",
              "      <td>0.964706</td>\n",
              "      <td>0.945098</td>\n",
              "      <td>0.941176</td>\n",
              "      <td>0.960784</td>\n",
              "      <td>0.941176</td>\n",
              "      <td>0.937255</td>\n",
              "      <td>0.952941</td>\n",
              "      <td>Cat animal</td>\n",
              "    </tr>\n",
              "    <tr>\n",
              "      <th>2</th>\n",
              "      <td>0.204902</td>\n",
              "      <td>0.000000</td>\n",
              "      <td>0.035294</td>\n",
              "      <td>0.271569</td>\n",
              "      <td>0.000000</td>\n",
              "      <td>0.047059</td>\n",
              "      <td>0.346078</td>\n",
              "      <td>0.007843</td>\n",
              "      <td>0.073529</td>\n",
              "      <td>0.393137</td>\n",
              "      <td>0.020588</td>\n",
              "      <td>0.098039</td>\n",
              "      <td>0.400000</td>\n",
              "      <td>0.031373</td>\n",
              "      <td>0.105882</td>\n",
              "      <td>0.372549</td>\n",
              "      <td>0.023529</td>\n",
              "      <td>0.091176</td>\n",
              "      <td>0.329412</td>\n",
              "      <td>0.015686</td>\n",
              "      <td>0.070588</td>\n",
              "      <td>0.298039</td>\n",
              "      <td>0.003922</td>\n",
              "      <td>0.051961</td>\n",
              "      <td>0.266667</td>\n",
              "      <td>0.000000</td>\n",
              "      <td>0.039216</td>\n",
              "      <td>0.207843</td>\n",
              "      <td>0.003922</td>\n",
              "      <td>0.027451</td>\n",
              "      <td>0.131373</td>\n",
              "      <td>0.011765</td>\n",
              "      <td>0.019608</td>\n",
              "      <td>0.051961</td>\n",
              "      <td>0.007843</td>\n",
              "      <td>0.007843</td>\n",
              "      <td>0.011765</td>\n",
              "      <td>0.003922</td>\n",
              "      <td>0.000000</td>\n",
              "      <td>0.000000</td>\n",
              "      <td>...</td>\n",
              "      <td>0.452941</td>\n",
              "      <td>0.455882</td>\n",
              "      <td>0.455882</td>\n",
              "      <td>0.523529</td>\n",
              "      <td>0.531373</td>\n",
              "      <td>0.533333</td>\n",
              "      <td>0.576471</td>\n",
              "      <td>0.584314</td>\n",
              "      <td>0.588235</td>\n",
              "      <td>0.611765</td>\n",
              "      <td>0.619608</td>\n",
              "      <td>0.625490</td>\n",
              "      <td>0.623529</td>\n",
              "      <td>0.635294</td>\n",
              "      <td>0.643137</td>\n",
              "      <td>0.627451</td>\n",
              "      <td>0.642157</td>\n",
              "      <td>0.650980</td>\n",
              "      <td>0.631373</td>\n",
              "      <td>0.643137</td>\n",
              "      <td>0.654902</td>\n",
              "      <td>0.620588</td>\n",
              "      <td>0.639216</td>\n",
              "      <td>0.650980</td>\n",
              "      <td>0.611765</td>\n",
              "      <td>0.631373</td>\n",
              "      <td>0.643137</td>\n",
              "      <td>0.611765</td>\n",
              "      <td>0.627451</td>\n",
              "      <td>0.639216</td>\n",
              "      <td>0.615686</td>\n",
              "      <td>0.631373</td>\n",
              "      <td>0.643137</td>\n",
              "      <td>0.607843</td>\n",
              "      <td>0.625490</td>\n",
              "      <td>0.637255</td>\n",
              "      <td>0.576471</td>\n",
              "      <td>0.597059</td>\n",
              "      <td>0.609804</td>\n",
              "      <td>Cat animal</td>\n",
              "    </tr>\n",
              "    <tr>\n",
              "      <th>3</th>\n",
              "      <td>0.066483</td>\n",
              "      <td>0.084549</td>\n",
              "      <td>0.019608</td>\n",
              "      <td>0.073647</td>\n",
              "      <td>0.105725</td>\n",
              "      <td>0.015686</td>\n",
              "      <td>0.062745</td>\n",
              "      <td>0.074510</td>\n",
              "      <td>0.007843</td>\n",
              "      <td>0.074510</td>\n",
              "      <td>0.089617</td>\n",
              "      <td>0.008422</td>\n",
              "      <td>0.078431</td>\n",
              "      <td>0.109564</td>\n",
              "      <td>0.011765</td>\n",
              "      <td>0.070588</td>\n",
              "      <td>0.113725</td>\n",
              "      <td>0.007843</td>\n",
              "      <td>0.074510</td>\n",
              "      <td>0.114431</td>\n",
              "      <td>0.011765</td>\n",
              "      <td>0.058502</td>\n",
              "      <td>0.090510</td>\n",
              "      <td>0.007843</td>\n",
              "      <td>0.024235</td>\n",
              "      <td>0.033429</td>\n",
              "      <td>0.003922</td>\n",
              "      <td>0.023529</td>\n",
              "      <td>0.007843</td>\n",
              "      <td>0.003922</td>\n",
              "      <td>0.007843</td>\n",
              "      <td>0.000000</td>\n",
              "      <td>0.000000</td>\n",
              "      <td>0.000000</td>\n",
              "      <td>0.000000</td>\n",
              "      <td>0.000000</td>\n",
              "      <td>0.013373</td>\n",
              "      <td>0.003922</td>\n",
              "      <td>0.000000</td>\n",
              "      <td>0.030602</td>\n",
              "      <td>...</td>\n",
              "      <td>0.352941</td>\n",
              "      <td>0.192157</td>\n",
              "      <td>0.117647</td>\n",
              "      <td>0.345098</td>\n",
              "      <td>0.200000</td>\n",
              "      <td>0.124784</td>\n",
              "      <td>0.349020</td>\n",
              "      <td>0.197558</td>\n",
              "      <td>0.121569</td>\n",
              "      <td>0.363807</td>\n",
              "      <td>0.235059</td>\n",
              "      <td>0.152706</td>\n",
              "      <td>0.403922</td>\n",
              "      <td>0.333333</td>\n",
              "      <td>0.239216</td>\n",
              "      <td>0.411765</td>\n",
              "      <td>0.267059</td>\n",
              "      <td>0.179757</td>\n",
              "      <td>0.392157</td>\n",
              "      <td>0.231373</td>\n",
              "      <td>0.149020</td>\n",
              "      <td>0.418452</td>\n",
              "      <td>0.241981</td>\n",
              "      <td>0.149020</td>\n",
              "      <td>0.431373</td>\n",
              "      <td>0.247059</td>\n",
              "      <td>0.156863</td>\n",
              "      <td>0.447059</td>\n",
              "      <td>0.243137</td>\n",
              "      <td>0.156863</td>\n",
              "      <td>0.431373</td>\n",
              "      <td>0.260000</td>\n",
              "      <td>0.168133</td>\n",
              "      <td>0.397492</td>\n",
              "      <td>0.257178</td>\n",
              "      <td>0.165569</td>\n",
              "      <td>0.440235</td>\n",
              "      <td>0.195242</td>\n",
              "      <td>0.105882</td>\n",
              "      <td>Cat animal</td>\n",
              "    </tr>\n",
              "    <tr>\n",
              "      <th>4</th>\n",
              "      <td>0.870588</td>\n",
              "      <td>0.862745</td>\n",
              "      <td>0.874510</td>\n",
              "      <td>0.874510</td>\n",
              "      <td>0.866667</td>\n",
              "      <td>0.878431</td>\n",
              "      <td>0.874510</td>\n",
              "      <td>0.870588</td>\n",
              "      <td>0.878431</td>\n",
              "      <td>0.878431</td>\n",
              "      <td>0.870588</td>\n",
              "      <td>0.882353</td>\n",
              "      <td>0.882353</td>\n",
              "      <td>0.874510</td>\n",
              "      <td>0.886275</td>\n",
              "      <td>0.882353</td>\n",
              "      <td>0.874510</td>\n",
              "      <td>0.890196</td>\n",
              "      <td>0.886275</td>\n",
              "      <td>0.878431</td>\n",
              "      <td>0.894118</td>\n",
              "      <td>0.886275</td>\n",
              "      <td>0.878431</td>\n",
              "      <td>0.898039</td>\n",
              "      <td>0.890196</td>\n",
              "      <td>0.882353</td>\n",
              "      <td>0.898039</td>\n",
              "      <td>0.898039</td>\n",
              "      <td>0.882353</td>\n",
              "      <td>0.901961</td>\n",
              "      <td>0.898039</td>\n",
              "      <td>0.886275</td>\n",
              "      <td>0.898039</td>\n",
              "      <td>0.898039</td>\n",
              "      <td>0.886275</td>\n",
              "      <td>0.898039</td>\n",
              "      <td>0.901961</td>\n",
              "      <td>0.890196</td>\n",
              "      <td>0.901961</td>\n",
              "      <td>0.901961</td>\n",
              "      <td>...</td>\n",
              "      <td>0.976471</td>\n",
              "      <td>0.968627</td>\n",
              "      <td>0.980392</td>\n",
              "      <td>0.980392</td>\n",
              "      <td>0.972549</td>\n",
              "      <td>0.988235</td>\n",
              "      <td>0.980392</td>\n",
              "      <td>0.972549</td>\n",
              "      <td>0.990196</td>\n",
              "      <td>0.980392</td>\n",
              "      <td>0.968627</td>\n",
              "      <td>0.988235</td>\n",
              "      <td>0.980392</td>\n",
              "      <td>0.968627</td>\n",
              "      <td>0.988235</td>\n",
              "      <td>0.980392</td>\n",
              "      <td>0.971569</td>\n",
              "      <td>0.992157</td>\n",
              "      <td>0.980392</td>\n",
              "      <td>0.972549</td>\n",
              "      <td>0.992157</td>\n",
              "      <td>0.984314</td>\n",
              "      <td>0.980392</td>\n",
              "      <td>0.992157</td>\n",
              "      <td>0.988235</td>\n",
              "      <td>0.980392</td>\n",
              "      <td>0.996078</td>\n",
              "      <td>0.984314</td>\n",
              "      <td>0.980392</td>\n",
              "      <td>0.996078</td>\n",
              "      <td>0.988235</td>\n",
              "      <td>0.978431</td>\n",
              "      <td>0.996078</td>\n",
              "      <td>0.988235</td>\n",
              "      <td>0.980392</td>\n",
              "      <td>0.996078</td>\n",
              "      <td>0.992157</td>\n",
              "      <td>0.984314</td>\n",
              "      <td>0.996078</td>\n",
              "      <td>Cat animal</td>\n",
              "    </tr>\n",
              "  </tbody>\n",
              "</table>\n",
              "<p>5 rows × 7501 columns</p>\n",
              "</div>"
            ],
            "text/plain": [
              "          0         1         2  ...      7498      7499      Target\n",
              "0  0.455518  0.301961  0.160784  ...  0.117647  0.003922  Cat animal\n",
              "1  0.852941  0.847059  0.862745  ...  0.937255  0.952941  Cat animal\n",
              "2  0.204902  0.000000  0.035294  ...  0.597059  0.609804  Cat animal\n",
              "3  0.066483  0.084549  0.019608  ...  0.195242  0.105882  Cat animal\n",
              "4  0.870588  0.862745  0.874510  ...  0.984314  0.996078  Cat animal\n",
              "\n",
              "[5 rows x 7501 columns]"
            ]
          },
          "metadata": {
            "tags": []
          },
          "execution_count": 13
        }
      ]
    },
    {
      "cell_type": "code",
      "metadata": {
        "id": "Vdwksyr5HgtK",
        "colab_type": "code",
        "colab": {}
      },
      "source": [
        "x=df.drop(columns=['Target'])\n",
        "y=df['Target']"
      ],
      "execution_count": 14,
      "outputs": []
    },
    {
      "cell_type": "code",
      "metadata": {
        "id": "YBfov4_pHlwY",
        "colab_type": "code",
        "colab": {
          "base_uri": "https://localhost:8080/",
          "height": 34
        },
        "outputId": "123e9f7f-8355-4a92-cef5-be6cef63e37e"
      },
      "source": [
        "from sklearn.model_selection import train_test_split\n",
        "x_train,x_test,y_train,y_test=train_test_split(x,y)\n",
        "x_train.shape,x_test.shape,y_train.shape,y_test.shape"
      ],
      "execution_count": 15,
      "outputs": [
        {
          "output_type": "execute_result",
          "data": {
            "text/plain": [
              "((30, 7500), (10, 7500), (30,), (10,))"
            ]
          },
          "metadata": {
            "tags": []
          },
          "execution_count": 15
        }
      ]
    },
    {
      "cell_type": "code",
      "metadata": {
        "id": "c1g0VTEiHvC_",
        "colab_type": "code",
        "colab": {
          "base_uri": "https://localhost:8080/",
          "height": 67
        },
        "outputId": "4f259a43-70f5-45f3-ec17-f8ce2619c701"
      },
      "source": [
        "from sklearn.neighbors import KNeighborsClassifier\n",
        "model=KNeighborsClassifier(n_neighbors=6)\n",
        "model.fit(x_train,y_train)\n",
        "pred=model.predict(x_test)\n",
        "pred"
      ],
      "execution_count": 16,
      "outputs": [
        {
          "output_type": "execute_result",
          "data": {
            "text/plain": [
              "array(['Rat animal', 'Rat animal', 'Rat animal', 'Cat animal',\n",
              "       'Rat animal', 'Cat animal', 'Cat animal', 'Rat animal',\n",
              "       'Rat animal', 'Cat animal'], dtype=object)"
            ]
          },
          "metadata": {
            "tags": []
          },
          "execution_count": 16
        }
      ]
    },
    {
      "cell_type": "code",
      "metadata": {
        "id": "Kz24kWsaH2Th",
        "colab_type": "code",
        "colab": {
          "base_uri": "https://localhost:8080/",
          "height": 202
        },
        "outputId": "54ad7215-2112-4c23-90b9-43084257f1ee"
      },
      "source": [
        "\n",
        "y_test"
      ],
      "execution_count": 17,
      "outputs": [
        {
          "output_type": "execute_result",
          "data": {
            "text/plain": [
              "9     Cat animal\n",
              "14    Cat animal\n",
              "27    Rat animal\n",
              "33    Rat animal\n",
              "29    Rat animal\n",
              "10    Cat animal\n",
              "11    Cat animal\n",
              "25    Rat animal\n",
              "16    Cat animal\n",
              "0     Cat animal\n",
              "Name: Target, dtype: object"
            ]
          },
          "metadata": {
            "tags": []
          },
          "execution_count": 17
        }
      ]
    },
    {
      "cell_type": "code",
      "metadata": {
        "id": "tlpDNvwiILAz",
        "colab_type": "code",
        "colab": {
          "base_uri": "https://localhost:8080/",
          "height": 168
        },
        "outputId": "717b6dfa-61ba-4c99-f19a-d32d06f2fa0b"
      },
      "source": [
        "from sklearn.metrics import classification_report\n",
        "print(classification_report(y_test,pred))"
      ],
      "execution_count": 18,
      "outputs": [
        {
          "output_type": "stream",
          "text": [
            "              precision    recall  f1-score   support\n",
            "\n",
            "  Cat animal       0.75      0.50      0.60         6\n",
            "  Rat animal       0.50      0.75      0.60         4\n",
            "\n",
            "    accuracy                           0.60        10\n",
            "   macro avg       0.62      0.62      0.60        10\n",
            "weighted avg       0.65      0.60      0.60        10\n",
            "\n"
          ],
          "name": "stdout"
        }
      ]
    },
    {
      "cell_type": "code",
      "metadata": {
        "id": "XorBguXeIT50",
        "colab_type": "code",
        "colab": {
          "base_uri": "https://localhost:8080/",
          "height": 67
        },
        "outputId": "7f892c98-16dd-4a4c-a825-2f8421701417"
      },
      "source": [
        "from sklearn.linear_model import LogisticRegression as LR\n",
        "m=LR()\n",
        "m.fit(x_train,y_train)\n",
        "pred=m.predict(x_test)\n",
        "pred"
      ],
      "execution_count": 19,
      "outputs": [
        {
          "output_type": "execute_result",
          "data": {
            "text/plain": [
              "array(['Rat animal', 'Rat animal', 'Rat animal', 'Cat animal',\n",
              "       'Rat animal', 'Cat animal', 'Cat animal', 'Rat animal',\n",
              "       'Rat animal', 'Cat animal'], dtype=object)"
            ]
          },
          "metadata": {
            "tags": []
          },
          "execution_count": 19
        }
      ]
    },
    {
      "cell_type": "code",
      "metadata": {
        "id": "BWNqXGWlIZSn",
        "colab_type": "code",
        "colab": {
          "base_uri": "https://localhost:8080/",
          "height": 168
        },
        "outputId": "39eb00a0-f8ed-4479-a7b7-a12d591bbe0d"
      },
      "source": [
        "from sklearn.metrics import classification_report\n",
        "print(classification_report(y_test,pred))"
      ],
      "execution_count": 20,
      "outputs": [
        {
          "output_type": "stream",
          "text": [
            "              precision    recall  f1-score   support\n",
            "\n",
            "  Cat animal       0.75      0.50      0.60         6\n",
            "  Rat animal       0.50      0.75      0.60         4\n",
            "\n",
            "    accuracy                           0.60        10\n",
            "   macro avg       0.62      0.62      0.60        10\n",
            "weighted avg       0.65      0.60      0.60        10\n",
            "\n"
          ],
          "name": "stdout"
        }
      ]
    },
    {
      "cell_type": "code",
      "metadata": {
        "id": "-FURyzV0IhG8",
        "colab_type": "code",
        "colab": {
          "base_uri": "https://localhost:8080/",
          "height": 202
        },
        "outputId": "fd795a0a-d62b-4829-be39-02f3a213c749"
      },
      "source": [
        "from sklearn.metrics import classification_report,confusion_matrix\n",
        "print(classification_report(y_test,pred))\n",
        "print(confusion_matrix(y_test,pred))"
      ],
      "execution_count": 21,
      "outputs": [
        {
          "output_type": "stream",
          "text": [
            "              precision    recall  f1-score   support\n",
            "\n",
            "  Cat animal       0.75      0.50      0.60         6\n",
            "  Rat animal       0.50      0.75      0.60         4\n",
            "\n",
            "    accuracy                           0.60        10\n",
            "   macro avg       0.62      0.62      0.60        10\n",
            "weighted avg       0.65      0.60      0.60        10\n",
            "\n",
            "[[3 3]\n",
            " [1 3]]\n"
          ],
          "name": "stdout"
        }
      ]
    },
    {
      "cell_type": "code",
      "metadata": {
        "id": "Cgc2ycJ0InC7",
        "colab_type": "code",
        "colab": {
          "base_uri": "https://localhost:8080/",
          "height": 50
        },
        "outputId": "74360193-c36a-4ae1-c341-9b86e61716a7"
      },
      "source": [
        "z = np.arange(1,25)\n",
        "z"
      ],
      "execution_count": 22,
      "outputs": [
        {
          "output_type": "execute_result",
          "data": {
            "text/plain": [
              "array([ 1,  2,  3,  4,  5,  6,  7,  8,  9, 10, 11, 12, 13, 14, 15, 16, 17,\n",
              "       18, 19, 20, 21, 22, 23, 24])"
            ]
          },
          "metadata": {
            "tags": []
          },
          "execution_count": 22
        }
      ]
    },
    {
      "cell_type": "code",
      "metadata": {
        "id": "HV9dQoM1IvTu",
        "colab_type": "code",
        "colab": {
          "base_uri": "https://localhost:8080/",
          "height": 202
        },
        "outputId": "3b779cc6-863e-4cbf-f1f4-375fca3be8a5"
      },
      "source": [
        "from sklearn.model_selection import GridSearchCV\n",
        "param={'n_neighbors':z}   \n",
        "model = KNeighborsClassifier()\n",
        "model_grid = GridSearchCV(model,param)    \n",
        "model_grid.fit(x_train,y_train)"
      ],
      "execution_count": 23,
      "outputs": [
        {
          "output_type": "execute_result",
          "data": {
            "text/plain": [
              "GridSearchCV(cv=None, error_score=nan,\n",
              "             estimator=KNeighborsClassifier(algorithm='auto', leaf_size=30,\n",
              "                                            metric='minkowski',\n",
              "                                            metric_params=None, n_jobs=None,\n",
              "                                            n_neighbors=5, p=2,\n",
              "                                            weights='uniform'),\n",
              "             iid='deprecated', n_jobs=None,\n",
              "             param_grid={'n_neighbors': array([ 1,  2,  3,  4,  5,  6,  7,  8,  9, 10, 11, 12, 13, 14, 15, 16, 17,\n",
              "       18, 19, 20, 21, 22, 23, 24])},\n",
              "             pre_dispatch='2*n_jobs', refit=True, return_train_score=False,\n",
              "             scoring=None, verbose=0)"
            ]
          },
          "metadata": {
            "tags": []
          },
          "execution_count": 23
        }
      ]
    },
    {
      "cell_type": "code",
      "metadata": {
        "id": "AX1gvtdOI4KD",
        "colab_type": "code",
        "colab": {
          "base_uri": "https://localhost:8080/",
          "height": 34
        },
        "outputId": "48017867-f121-419a-8dcc-3f084874e9e7"
      },
      "source": [
        "model_grid.best_params_"
      ],
      "execution_count": 25,
      "outputs": [
        {
          "output_type": "execute_result",
          "data": {
            "text/plain": [
              "{'n_neighbors': 7}"
            ]
          },
          "metadata": {
            "tags": []
          },
          "execution_count": 25
        }
      ]
    },
    {
      "cell_type": "code",
      "metadata": {
        "id": "jIX4TLAHI83Z",
        "colab_type": "code",
        "colab": {
          "base_uri": "https://localhost:8080/",
          "height": 67
        },
        "outputId": "79e2cb21-08e8-4f78-e0c7-8e15e9ba5604"
      },
      "source": [
        "from sklearn.neighbors import KNeighborsClassifier\n",
        "model=KNeighborsClassifier(n_neighbors=8)\n",
        "model.fit(x_train,y_train)\n",
        "pred=model.predict(x_test)\n",
        "pred"
      ],
      "execution_count": 26,
      "outputs": [
        {
          "output_type": "execute_result",
          "data": {
            "text/plain": [
              "array(['Rat animal', 'Rat animal', 'Cat animal', 'Cat animal',\n",
              "       'Rat animal', 'Cat animal', 'Cat animal', 'Rat animal',\n",
              "       'Rat animal', 'Cat animal'], dtype=object)"
            ]
          },
          "metadata": {
            "tags": []
          },
          "execution_count": 26
        }
      ]
    },
    {
      "cell_type": "code",
      "metadata": {
        "id": "5mmqICuHJH2W",
        "colab_type": "code",
        "colab": {
          "base_uri": "https://localhost:8080/",
          "height": 202
        },
        "outputId": "ad9356ef-c25d-4013-9e0c-31f30eb60e27"
      },
      "source": [
        "from sklearn.metrics import classification_report,confusion_matrix\n",
        "print(classification_report(y_test,pred))\n",
        "print(confusion_matrix(y_test,pred))"
      ],
      "execution_count": 27,
      "outputs": [
        {
          "output_type": "stream",
          "text": [
            "              precision    recall  f1-score   support\n",
            "\n",
            "  Cat animal       0.60      0.50      0.55         6\n",
            "  Rat animal       0.40      0.50      0.44         4\n",
            "\n",
            "    accuracy                           0.50        10\n",
            "   macro avg       0.50      0.50      0.49        10\n",
            "weighted avg       0.52      0.50      0.51        10\n",
            "\n",
            "[[3 3]\n",
            " [2 2]]\n"
          ],
          "name": "stdout"
        }
      ]
    },
    {
      "cell_type": "code",
      "metadata": {
        "id": "ntJe60abJM7Z",
        "colab_type": "code",
        "colab": {
          "base_uri": "https://localhost:8080/",
          "height": 202
        },
        "outputId": "9535d879-ec8a-425c-dcfa-ed648d493fc2"
      },
      "source": [
        "from sklearn.linear_model import LogisticRegression as LR\n",
        "m=LR(class_weight='balanced')\n",
        "m.fit(x_train,y_train)\n",
        "pred=m.predict(x_test)\n",
        "pred"
      ],
      "execution_count": 28,
      "outputs": [
        {
          "output_type": "stream",
          "text": [
            "/usr/local/lib/python3.6/dist-packages/sklearn/linear_model/_logistic.py:940: ConvergenceWarning: lbfgs failed to converge (status=1):\n",
            "STOP: TOTAL NO. of ITERATIONS REACHED LIMIT.\n",
            "\n",
            "Increase the number of iterations (max_iter) or scale the data as shown in:\n",
            "    https://scikit-learn.org/stable/modules/preprocessing.html\n",
            "Please also refer to the documentation for alternative solver options:\n",
            "    https://scikit-learn.org/stable/modules/linear_model.html#logistic-regression\n",
            "  extra_warning_msg=_LOGISTIC_SOLVER_CONVERGENCE_MSG)\n"
          ],
          "name": "stderr"
        },
        {
          "output_type": "execute_result",
          "data": {
            "text/plain": [
              "array(['Rat animal', 'Rat animal', 'Rat animal', 'Cat animal',\n",
              "       'Rat animal', 'Cat animal', 'Cat animal', 'Rat animal',\n",
              "       'Rat animal', 'Cat animal'], dtype=object)"
            ]
          },
          "metadata": {
            "tags": []
          },
          "execution_count": 28
        }
      ]
    },
    {
      "cell_type": "code",
      "metadata": {
        "id": "70OSIb9-JTIV",
        "colab_type": "code",
        "colab": {
          "base_uri": "https://localhost:8080/",
          "height": 202
        },
        "outputId": "5afe3111-0118-499d-fd00-4345d4c16404"
      },
      "source": [
        "from sklearn.metrics import classification_report,confusion_matrix\n",
        "print(classification_report(y_test,pred))\n",
        "print(confusion_matrix(y_test,pred))"
      ],
      "execution_count": 29,
      "outputs": [
        {
          "output_type": "stream",
          "text": [
            "              precision    recall  f1-score   support\n",
            "\n",
            "  Cat animal       0.75      0.50      0.60         6\n",
            "  Rat animal       0.50      0.75      0.60         4\n",
            "\n",
            "    accuracy                           0.60        10\n",
            "   macro avg       0.62      0.62      0.60        10\n",
            "weighted avg       0.65      0.60      0.60        10\n",
            "\n",
            "[[3 3]\n",
            " [1 3]]\n"
          ],
          "name": "stdout"
        }
      ]
    },
    {
      "cell_type": "code",
      "metadata": {
        "id": "KHUrAo8PJYca",
        "colab_type": "code",
        "colab": {
          "base_uri": "https://localhost:8080/",
          "height": 67
        },
        "outputId": "d6522565-05ca-43af-b09a-18d8c76d89d5"
      },
      "source": [
        "from sklearn import svm\n",
        "mod=svm.SVC()\n",
        "mod.fit(x_train,y_train)\n",
        "pred=mod.predict(x_test)\n",
        "\n",
        "pred"
      ],
      "execution_count": 30,
      "outputs": [
        {
          "output_type": "execute_result",
          "data": {
            "text/plain": [
              "array(['Rat animal', 'Rat animal', 'Rat animal', 'Cat animal',\n",
              "       'Rat animal', 'Cat animal', 'Cat animal', 'Rat animal',\n",
              "       'Rat animal', 'Cat animal'], dtype=object)"
            ]
          },
          "metadata": {
            "tags": []
          },
          "execution_count": 30
        }
      ]
    },
    {
      "cell_type": "code",
      "metadata": {
        "id": "O98IzObMJdCi",
        "colab_type": "code",
        "colab": {
          "base_uri": "https://localhost:8080/",
          "height": 202
        },
        "outputId": "9f19a1ec-d25e-4455-d187-657476244132"
      },
      "source": [
        "from sklearn.metrics import classification_report,confusion_matrix\n",
        "print(classification_report(y_test,pred))\n",
        "print(confusion_matrix(y_test,pred))"
      ],
      "execution_count": 32,
      "outputs": [
        {
          "output_type": "stream",
          "text": [
            "              precision    recall  f1-score   support\n",
            "\n",
            "  Cat animal       0.75      0.50      0.60         6\n",
            "  Rat animal       0.50      0.75      0.60         4\n",
            "\n",
            "    accuracy                           0.60        10\n",
            "   macro avg       0.62      0.62      0.60        10\n",
            "weighted avg       0.65      0.60      0.60        10\n",
            "\n",
            "[[3 3]\n",
            " [1 3]]\n"
          ],
          "name": "stdout"
        }
      ]
    },
    {
      "cell_type": "code",
      "metadata": {
        "id": "3EHX8vwJJjLv",
        "colab_type": "code",
        "colab": {
          "base_uri": "https://localhost:8080/",
          "height": 218
        },
        "outputId": "38ece125-9743-4e77-c6b2-3274fa2458c3"
      },
      "source": [
        "from sklearn.ensemble import RandomForestClassifier as RFC\n",
        "m=RFC()\n",
        "m.fit(x_train,y_train)\n",
        "pred=m.predict(x_test)\n",
        "pred_prob=m.predict_proba(x_test)\n",
        "print(pred)\n",
        "print(pred_prob)"
      ],
      "execution_count": 33,
      "outputs": [
        {
          "output_type": "stream",
          "text": [
            "['Rat animal' 'Rat animal' 'Cat animal' 'Cat animal' 'Rat animal'\n",
            " 'Cat animal' 'Cat animal' 'Rat animal' 'Rat animal' 'Cat animal']\n",
            "[[0.36 0.64]\n",
            " [0.23 0.77]\n",
            " [0.55 0.45]\n",
            " [0.73 0.27]\n",
            " [0.39 0.61]\n",
            " [0.86 0.14]\n",
            " [0.77 0.23]\n",
            " [0.12 0.88]\n",
            " [0.29 0.71]\n",
            " [0.85 0.15]]\n"
          ],
          "name": "stdout"
        }
      ]
    },
    {
      "cell_type": "code",
      "metadata": {
        "id": "r5PSmYaBJtqj",
        "colab_type": "code",
        "colab": {
          "base_uri": "https://localhost:8080/",
          "height": 202
        },
        "outputId": "fd4cd6ba-5aba-43e3-9e16-7c7d378cb121"
      },
      "source": [
        "from sklearn.metrics import classification_report,confusion_matrix\n",
        "print(classification_report(y_test,pred))\n",
        "print(confusion_matrix(y_test,pred))"
      ],
      "execution_count": 34,
      "outputs": [
        {
          "output_type": "stream",
          "text": [
            "              precision    recall  f1-score   support\n",
            "\n",
            "  Cat animal       0.60      0.50      0.55         6\n",
            "  Rat animal       0.40      0.50      0.44         4\n",
            "\n",
            "    accuracy                           0.50        10\n",
            "   macro avg       0.50      0.50      0.49        10\n",
            "weighted avg       0.52      0.50      0.51        10\n",
            "\n",
            "[[3 3]\n",
            " [2 2]]\n"
          ],
          "name": "stdout"
        }
      ]
    },
    {
      "cell_type": "code",
      "metadata": {
        "id": "Hpt3_LMyJxhr",
        "colab_type": "code",
        "colab": {
          "base_uri": "https://localhost:8080/",
          "height": 218
        },
        "outputId": "ca842803-a8a7-4a1b-f3e9-950c78320b3e"
      },
      "source": [
        "\n",
        "from sklearn.ensemble import RandomForestClassifier as RFC\n",
        "m=RFC()\n",
        "m.fit(x_train,y_train)\n",
        "pred=m.predict(x_test)\n",
        "pred_prob=m.predict_proba(x_test)\n",
        "print(pred)\n",
        "print(pred_prob)"
      ],
      "execution_count": 35,
      "outputs": [
        {
          "output_type": "stream",
          "text": [
            "['Rat animal' 'Rat animal' 'Cat animal' 'Cat animal' 'Rat animal'\n",
            " 'Cat animal' 'Cat animal' 'Rat animal' 'Rat animal' 'Cat animal']\n",
            "[[0.27 0.73]\n",
            " [0.17 0.83]\n",
            " [0.52 0.48]\n",
            " [0.67 0.33]\n",
            " [0.29 0.71]\n",
            " [0.73 0.27]\n",
            " [0.78 0.22]\n",
            " [0.17 0.83]\n",
            " [0.32 0.68]\n",
            " [0.84 0.16]]\n"
          ],
          "name": "stdout"
        }
      ]
    },
    {
      "cell_type": "code",
      "metadata": {
        "id": "DuiLMk9xKBc2",
        "colab_type": "code",
        "colab": {
          "base_uri": "https://localhost:8080/",
          "height": 202
        },
        "outputId": "affa00d5-43e8-49b8-8b4a-f08d4134a31c"
      },
      "source": [
        "from sklearn.metrics import classification_report,confusion_matrix\n",
        "print(classification_report(y_test,pred))\n",
        "print(confusion_matrix(y_test,pred))"
      ],
      "execution_count": 36,
      "outputs": [
        {
          "output_type": "stream",
          "text": [
            "              precision    recall  f1-score   support\n",
            "\n",
            "  Cat animal       0.60      0.50      0.55         6\n",
            "  Rat animal       0.40      0.50      0.44         4\n",
            "\n",
            "    accuracy                           0.50        10\n",
            "   macro avg       0.50      0.50      0.49        10\n",
            "weighted avg       0.52      0.50      0.51        10\n",
            "\n",
            "[[3 3]\n",
            " [2 2]]\n"
          ],
          "name": "stdout"
        }
      ]
    },
    {
      "cell_type": "code",
      "metadata": {
        "id": "985SWA_rKITH",
        "colab_type": "code",
        "colab": {}
      },
      "source": [
        "import cv2\n",
        "import numpy as np\n",
        "from skimage.io import imread\n",
        "import matplotlib.pyplot as plt"
      ],
      "execution_count": 37,
      "outputs": []
    },
    {
      "cell_type": "code",
      "metadata": {
        "id": "PP2m5PLDKOJv",
        "colab_type": "code",
        "colab": {
          "base_uri": "https://localhost:8080/",
          "height": 319
        },
        "outputId": "800d736c-41dc-457c-89c9-d9c50423291c"
      },
      "source": [
        "a=imread('https://media4.picsearch.com/is?D_4XEoZLxByT6MHr-ktbu4fynkrf2ntjEQbkRd0mlxk&height=288')\n",
        "print(a.shape)\n",
        "plt.imshow(a)\n",
        "new=[]\n",
        "imgresized = resize(a,(50,50,3))\n",
        "new.append(imgresized.flatten())\n",
        "new"
      ],
      "execution_count": 42,
      "outputs": [
        {
          "output_type": "stream",
          "text": [
            "(288, 213, 3)\n"
          ],
          "name": "stdout"
        },
        {
          "output_type": "execute_result",
          "data": {
            "text/plain": [
              "[array([0.18980627, 0.10016157, 0.10443137, ..., 0.55713725, 0.3625098 ,\n",
              "        0.35564706])]"
            ]
          },
          "metadata": {
            "tags": []
          },
          "execution_count": 42
        },
        {
          "output_type": "display_data",
          "data": {
            "image/png": "[encoded data removed]",
            "text/plain": [
              "<Figure size 432x288 with 1 Axes>"
            ]
          },
          "metadata": {
            "tags": [],
            "needs_background": "light"
          }
        }
      ]
    },
    {
      "cell_type": "code",
      "metadata": {
        "id": "xHpBw4FBKjTS",
        "colab_type": "code",
        "colab": {}
      },
      "source": [
        "b=np.array(new)"
      ],
      "execution_count": 43,
      "outputs": []
    },
    {
      "cell_type": "code",
      "metadata": {
        "id": "vB30zPviKpkQ",
        "colab_type": "code",
        "colab": {
          "base_uri": "https://localhost:8080/",
          "height": 34
        },
        "outputId": "cf933879-a365-4a55-cd60-8127fb45f3cc"
      },
      "source": [
        "p=model.predict(b)    \n",
        "p"
      ],
      "execution_count": 44,
      "outputs": [
        {
          "output_type": "execute_result",
          "data": {
            "text/plain": [
              "array(['Rat animal'], dtype=object)"
            ]
          },
          "metadata": {
            "tags": []
          },
          "execution_count": 44
        }
      ]
    },
    {
      "cell_type": "code",
      "metadata": {
        "id": "yb4-z61rKtf3",
        "colab_type": "code",
        "colab": {}
      },
      "source": [
        ""
      ],
      "execution_count": null,
      "outputs": []
    }
  ]
}